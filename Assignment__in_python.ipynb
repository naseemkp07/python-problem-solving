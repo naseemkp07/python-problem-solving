{
  "cells": [
    {
      "cell_type": "markdown",
      "metadata": {
        "id": "view-in-github",
        "colab_type": "text"
      },
      "source": [
        "<a href=\"https://colab.research.google.com/github/naseemkp07/python-problem-solving/blob/main/Assignment__in_python.ipynb\" target=\"_parent\"><img src=\"https://colab.research.google.com/assets/colab-badge.svg\" alt=\"Open In Colab\"/></a>"
      ]
    },
    {
      "cell_type": "markdown",
      "metadata": {
        "id": "5A-Y0wMzcmKP"
      },
      "source": [
        "**. 1. Python program to swap the values of two variables\n",
        "without using a temporary variable**"
      ]
    },
    {
      "cell_type": "code",
      "execution_count": null,
      "metadata": {
        "colab": {
          "base_uri": "https://localhost:8080/"
        },
        "id": "FEWW4yoBY-Bg",
        "outputId": "b2cea79a-618b-4446-b830-3089cefe21d8"
      },
      "outputs": [
        {
          "name": "stdout",
          "output_type": "stream",
          "text": [
            "Before swapping: \n",
            "Value of sonu :  5  and naseem :  7\n",
            "After swapping: \n",
            "Value of sonu :  7  and naseem :  5\n"
          ]
        }
      ],
      "source": [
        "# Python code to swap two numbers\n",
        "# without using another variable\n",
        "\n",
        "\n",
        "sonu = 5\n",
        "naseem = 7\n",
        "\n",
        "print (\"Before swapping: \")\n",
        "print(\"Value of sonu : \", sonu, \" and naseem : \", naseem)\n",
        "\n",
        "# code to swap 'sonu' and 'naseem'\n",
        "sonu, naseem = naseem, sonu\n",
        "\n",
        "print (\"After swapping: \")\n",
        "print(\"Value of sonu : \", sonu, \" and naseem : \", naseem)\n"
      ]
    },
    {
      "cell_type": "markdown",
      "metadata": {
        "id": "9tqjLQSmd-p6"
      },
      "source": [
        "* 2.  Area of a circle given its radius. Take the radius\n",
        "as input from the user.\n",
        "\n",
        "________________________________________________________________________________\n",
        "\n",
        "\n",
        "1. The first line from math import pi imports the pi constant from the math module, which is the mathematical constant. It represents the ratio of a circle's circumference to its diameter (approximately equal to 3.14).\n",
        "2. The second line r = float(input (\"Input the radius of the circle : \")) gets the radius of the circle from the user using the input() function. input() function assigns it to the variable r, it's then cast to float, so the user can input decimal number also.\n",
        "3. The third line print (\"The area of the circle with radius \" + str(r) + \" is: \" + str(pi * r**2)) uses the formula to calculate the area of the circle (pi*r**2) . Then it concatenates the string and the value of the radius and area using the + operator and prints the final string."
      ]
    },
    {
      "cell_type": "code",
      "execution_count": null,
      "metadata": {
        "colab": {
          "background_save": true
        },
        "id": "vdK6TrRjczdk",
        "outputId": "836ff642-50ad-4949-d367-6f98d62ffca5"
      },
      "outputs": [
        {
          "name": "stdout",
          "output_type": "stream",
          "text": [
            "The area of the circle with radius 5.0 is: 78.53981633974483\n"
          ]
        }
      ],
      "source": [
        "# Import the 'pi' constant from the 'math' module to calculate the area of a circle\n",
        "from math import pi\n",
        "\n",
        "# Prompt the user to input the radius of the circle\n",
        "r = float(input(\"Input the radius of the circle : \"))\n",
        "\n",
        "# Calculate the area of the circle using the formula: area = π * r^2\n",
        "area = pi * r ** 2\n",
        "\n",
        "# Display the result, including the radius and calculated area\n",
        "print(\"The area of the circle with radius \" + str(r) + \" is: \" + str(area))\n"
      ]
    },
    {
      "cell_type": "markdown",
      "metadata": {
        "id": "3JKQ5zbgfJxU"
      },
      "source": [
        "3. Python program to check if a number is even or odd"
      ]
    },
    {
      "cell_type": "code",
      "execution_count": null,
      "metadata": {
        "id": "xh8fDjdjeRnv"
      },
      "outputs": [],
      "source": [
        "# Python program to check if the input number is odd or even.\n",
        "# A number is even if division by 2 gives a remainder of 0.\n",
        "# If the remainder is 1, it is an odd number.\n",
        "\n",
        "num = int(input(\"Enter a number: \"))\n",
        "if (num % 2) == 0:\n",
        "   print(\"{0} is Even\".format(num))\n",
        "else:\n",
        "   print(\"{0} is Odd\".format(num))"
      ]
    },
    {
      "cell_type": "markdown",
      "metadata": {
        "id": "eSnfYOFogItT"
      },
      "source": [
        " **3.  factorial of a number using a loop**"
      ]
    },
    {
      "cell_type": "markdown",
      "metadata": {
        "id": "1nCZDi6pg3Gq"
      },
      "source": [
        "In the above approach, the factorial program takes input from the user as an integer and assigns it to the variable n. It then initializes the variable factorial to 1. If n is greater than or equal to 1, it enters a for loop that iterates from 1 to n (inclusive) and multiplies factorial by each value of i in the loop"
      ]
    },
    {
      "cell_type": "code",
      "execution_count": null,
      "metadata": {
        "colab": {
          "base_uri": "https://localhost:8080/"
        },
        "id": "F3GwEdRVfNak",
        "outputId": "17bcbc74-a0a7-4a1f-eb76-a69f62460213"
      },
      "outputs": [
        {
          "name": "stdout",
          "output_type": "stream",
          "text": [
            "Enter a number: 30\n",
            "Factorial of the given number is:  265252859812191058636308480000000\n"
          ]
        }
      ],
      "source": [
        "n = int (input (\"Enter a number: \"))\n",
        "factorial = 1\n",
        "if n >= 1:\n",
        "    for i in range (1, n+1):\n",
        "        factorial=factorial *i\n",
        "print(\"Factorial of the given number is: \", factorial)"
      ]
    },
    {
      "cell_type": "code",
      "execution_count": null,
      "metadata": {
        "colab": {
          "base_uri": "https://localhost:8080/"
        },
        "id": "2lmou6FHiCie",
        "outputId": "06ef61b1-9234-4d5f-bf85-c5e71bdb4d9a"
      },
      "outputs": [
        {
          "name": "stdout",
          "output_type": "stream",
          "text": [
            "Enter temperaturein celsius: 40\n",
            "40.0 degree Celsiusis equal to 104.0 degree Fahrenheit.\n"
          ]
        }
      ],
      "source": [
        "celsius = float(input(\"Enter temperature\\\n",
        "in celsius: \"))\n",
        "\n",
        "fahrenheit = (celsius * 1.8) + 32\n",
        "\n",
        "print(str(celsius )+ \" degree Celsius\\\n",
        "is equal to \" + str(fahrenheit )+\n",
        "\t\" degree Fahrenheit.\")"
      ]
    },
    {
      "cell_type": "markdown",
      "metadata": {
        "id": "OgRoF1FLv7j1"
      },
      "source": [
        "# Lists and Slicing:\n"
      ]
    },
    {
      "cell_type": "markdown",
      "metadata": {
        "id": "JLKaVwNYwUGv"
      },
      "source": [
        "** 1.Python program to print\n",
        "the even numbers from the list.**"
      ]
    },
    {
      "cell_type": "code",
      "execution_count": null,
      "metadata": {
        "colab": {
          "base_uri": "https://localhost:8080/"
        },
        "id": "Kg6vcvVopkJp",
        "outputId": "79ebe97c-c269-41c9-e771-b3fed8ffe434"
      },
      "outputs": [
        {
          "name": "stdout",
          "output_type": "stream",
          "text": [
            "10 4 66 78 80 "
          ]
        }
      ],
      "source": [
        "# Python program to print Even Numbers in a List\n",
        "\n",
        "# list of numbers\n",
        "list1 = [10, 21, 4, 45, 66, 93,78,55,80,111]\n",
        "\n",
        "# iterating each number in list\n",
        "for num in list1:\n",
        "\n",
        "\t# checking condition\n",
        "\tif num % 2 == 0:\n",
        "\t\tprint(num, end=\" \")\n"
      ]
    },
    {
      "cell_type": "markdown",
      "metadata": {
        "id": "C5g6TUP4y9Zc"
      },
      "source": [
        "**2.  count how many\n",
        "strings have a length of 5 or more characters**\n"
      ]
    },
    {
      "cell_type": "code",
      "execution_count": null,
      "metadata": {
        "colab": {
          "base_uri": "https://localhost:8080/"
        },
        "id": "stOwLd8qwXnd",
        "outputId": "7aec3df6-0c8a-473f-add1-57530c326332"
      },
      "outputs": [
        {
          "name": "stdout",
          "output_type": "stream",
          "text": [
            "The original string is : failure is the path to success \n",
            "Count of Alphabets : 25\n"
          ]
        }
      ],
      "source": [
        "\n",
        "import string\n",
        "\n",
        "# initializing string\n",
        "test_str = 'failure is the path to success '\n",
        "\n",
        "# printing original string\n",
        "print(\"The original string is : \" + str(test_str))\n",
        "\n",
        "# ascii_lowercase and ascii_uppercase\n",
        "# to check for Alphabets\n",
        "res = len([ele for ele in test_str if ele in string.ascii_uppercase or ele in string.ascii_lowercase])\n",
        "\n",
        "# printing result\n",
        "print(\"Count of Alphabets : \" + str(res))\n"
      ]
    },
    {
      "cell_type": "markdown",
      "metadata": {
        "id": "PhBYm9hX7bR3"
      },
      "source": [
        "**3. Slice a given list to print only the first and last three\n",
        "elements.**"
      ]
    },
    {
      "cell_type": "code",
      "execution_count": null,
      "metadata": {
        "colab": {
          "base_uri": "https://localhost:8080/"
        },
        "id": "TqncXIOEyxfl",
        "outputId": "1122a68b-308a-44b3-d6dd-e68ba754eb80"
      },
      "outputs": [
        {
          "name": "stdout",
          "output_type": "stream",
          "text": [
            "The original list is : [1, 25, 4, 9, 10, 77]\n",
            "The first and last element of list are : [1, 77]\n"
          ]
        }
      ],
      "source": [
        "# initializing list\n",
        "test_list = [1, 25, 4, 9, 10,77]\n",
        "\n",
        "# printing original list\n",
        "print(\"The original list is : \" + str(test_list))\n",
        "\n",
        "# using list comprehension\n",
        "# to get first and last element of list\n",
        "res = [test_list[i] for i in (0, -1)]\n",
        "\n",
        "# printing result\n",
        "print(\"The first and last element of list are : \" + str(res))\n",
        "\n"
      ]
    },
    {
      "cell_type": "markdown",
      "metadata": {
        "id": "qMY-JiEg8GEJ"
      },
      "source": [
        "**4. Reverse a list without using the reverse() method.**"
      ]
    },
    {
      "cell_type": "code",
      "execution_count": null,
      "metadata": {
        "colab": {
          "base_uri": "https://localhost:8080/"
        },
        "id": "YTRiXl028JQi",
        "outputId": "41461951-b500-4c04-9dea-bc6848303314"
      },
      "outputs": [
        {
          "name": "stdout",
          "output_type": "stream",
          "text": [
            "[15, 14, 13, 12, 11, 10]\n"
          ]
        }
      ],
      "source": [
        "\n",
        "\n",
        "# Reversing a list using slicing technique\n",
        "def Reverse(lst):\n",
        "   new_lst = lst[::-1]\n",
        "   return new_lst\n",
        "\n",
        "\n",
        "lst = [10, 11, 12, 13, 14, 15]\n",
        "print(Reverse(lst))"
      ]
    },
    {
      "cell_type": "markdown",
      "metadata": {
        "id": "JkIQ-tZQ8mnc"
      },
      "source": [
        "**5. Find the maximum and minimum values in a list**"
      ]
    },
    {
      "cell_type": "code",
      "execution_count": null,
      "metadata": {
        "colab": {
          "base_uri": "https://localhost:8080/"
        },
        "id": "_0E_uOH18QO0",
        "outputId": "54247805-127e-4ca4-b1a5-010cd338c9d2"
      },
      "outputs": [
        {
          "name": "stdout",
          "output_type": "stream",
          "text": [
            "Minimum Element in the list [10, 15, 44, 9, 88, 90, 2, 77] is 2\n",
            "Maximum Element in the list [10, 15, 44, 9, 88, 90, 2, 77] is 90\n"
          ]
        }
      ],
      "source": [
        "gfg_list = [10,15,44,9,88,90,2,77,]\n",
        "# min and max indexes are taken 1st element\n",
        "# In some cases list might be a single element\n",
        "min_ele, max_ele = gfg_list[0], gfg_list[0]\n",
        "\n",
        "for i in range(1, len(gfg_list)):\n",
        "\tif gfg_list[i] < min_ele:\n",
        "\t\tmin_ele = gfg_list[i]\n",
        "\n",
        "\tif gfg_list[i] > max_ele:\n",
        "\t\tmax_ele = gfg_list[i]\n",
        "\n",
        "print('Minimum Element in the list', gfg_list, 'is', min_ele)\n",
        "print('Maximum Element in the list', gfg_list, 'is', max_ele)\n"
      ]
    },
    {
      "cell_type": "markdown",
      "metadata": {
        "id": "1ihVpV4A9Nsh"
      },
      "source": [
        "#Conditional statements : If, If-Else, Elif Statements"
      ]
    },
    {
      "cell_type": "markdown",
      "metadata": {
        "id": "tdVWJZBz9bXw"
      },
      "source": [
        "**1. Python program to check if a given number is positive, negative, or zero.**"
      ]
    },
    {
      "cell_type": "code",
      "execution_count": null,
      "metadata": {
        "colab": {
          "base_uri": "https://localhost:8080/"
        },
        "id": "XH71UwEZ92hh",
        "outputId": "3ecb6b73-b94e-4ca9-bd9a-5dbb54a1ac16"
      },
      "outputs": [
        {
          "name": "stdout",
          "output_type": "stream",
          "text": [
            "Enter a number: -5\n",
            "Negative number\n"
          ]
        }
      ],
      "source": [
        "num = float(input(\"Enter a number: \"))\n",
        "if num >= 0:\n",
        "   if num == 0:\n",
        "       print(\"Zero\")\n",
        "   else:\n",
        "       print(\"Positive number\")\n",
        "else:\n",
        "   print(\"Negative number\")\n"
      ]
    },
    {
      "cell_type": "markdown",
      "metadata": {
        "id": "jAwQVwaWBm9c"
      },
      "source": [
        "**2.Check if a student's grade is an 'A', 'B', 'C', 'D', or 'F' based on their\n",
        "test score**"
      ]
    },
    {
      "cell_type": "code",
      "execution_count": null,
      "metadata": {
        "colab": {
          "base_uri": "https://localhost:8080/"
        },
        "id": "PemhS5zQCdCJ",
        "outputId": "bf03793f-fffe-4236-eaa5-aebeb03842f9"
      },
      "outputs": [
        {
          "name": "stdout",
          "output_type": "stream",
          "text": [
            "Please enter the marks (0-100): 91\n",
            "Grade: A\n"
          ]
        }
      ],
      "source": [
        "try:\n",
        "    marks = float(input(\"Please enter the marks (0-100): \"))\n",
        "\n",
        "    # Validate the marks are within a plausible range (0-100)\n",
        "\n",
        "    if 0 <= marks <= 100:\n",
        "        if marks >= 90:\n",
        "            grade = 'A'\n",
        "        elif marks >= 80:\n",
        "            grade = 'B'\n",
        "        elif marks >= 70:\n",
        "            grade = 'C'\n",
        "        elif marks >= 60:\n",
        "            grade = 'D'\n",
        "        else:\n",
        "            grade = 'F'\n",
        "        print(\"Grade:\", grade)\n",
        "    else:\n",
        "        print(\"Invalid marks. Please enter a value between 0 and 100.\")\n",
        "except ValueError:\n",
        "    print(\"Invalid input. Please enter a numeric value.\")"
      ]
    },
    {
      "cell_type": "markdown",
      "metadata": {
        "id": "WK5lWWajMxKc"
      },
      "source": [
        "**3. leap year or not leap year**"
      ]
    },
    {
      "cell_type": "code",
      "execution_count": null,
      "metadata": {
        "colab": {
          "base_uri": "https://localhost:8080/"
        },
        "id": "hs4Es6l0DDVR",
        "outputId": "939eb65c-2ad8-40aa-a928-516cef072f74"
      },
      "outputs": [
        {
          "name": "stdout",
          "output_type": "stream",
          "text": [
            "Enter a year: 2004\n",
            "2004  is a leap year\n"
          ]
        }
      ],
      "source": [
        "import calendar\n",
        "\n",
        "year = int(input(\"Enter a year: \"))\n",
        "\n",
        "if calendar.isleap(year):\n",
        "    print(year, \" is a leap year\")\n",
        "else:\n",
        "    print(year, \"is not a leap year.\")"
      ]
    },
    {
      "cell_type": "markdown",
      "metadata": {
        "id": "5lwkudcFMoMt"
      },
      "source": [
        "**4.Check if a number is prime or not.**"
      ]
    },
    {
      "cell_type": "code",
      "execution_count": null,
      "metadata": {
        "colab": {
          "base_uri": "https://localhost:8080/"
        },
        "id": "XWzAll-ME0Oi",
        "outputId": "1763d018-2dbf-4da9-c623-5b517f798ade"
      },
      "outputs": [
        {
          "name": "stdout",
          "output_type": "stream",
          "text": [
            "11 is a prime number\n"
          ]
        }
      ],
      "source": [
        "\n",
        "\n",
        "num = 11\n",
        "\n",
        "# If given number is greater than 1\n",
        "\n",
        "if num > 1:\n",
        "\n",
        "    # Iterate from 2 to n // 2\n",
        "\n",
        "    for i in range(2, (num//2)+1):\n",
        "\n",
        "        # If num is divisible by any number between\n",
        "        # 2 and n / 2, it is not prime\n",
        "\n",
        "        if (num % i) == 0:\n",
        "            print(num, \"is not a prime number\")\n",
        "            break\n",
        "    else:\n",
        "        print(num, \"is a prime number\")\n",
        "else:\n",
        "    print(num, \"is not a prime number\")"
      ]
    },
    {
      "cell_type": "markdown",
      "metadata": {
        "id": "S_axNGTpN6es"
      },
      "source": [
        "**5. character is a vowel or a consonant.**"
      ]
    },
    {
      "cell_type": "code",
      "execution_count": null,
      "metadata": {
        "colab": {
          "base_uri": "https://localhost:8080/"
        },
        "id": "HmKl7hhHLjOv",
        "outputId": "203d977c-0a39-4ee7-a998-c0eb82e4669b"
      },
      "outputs": [
        {
          "name": "stdout",
          "output_type": "stream",
          "text": [
            "Input a letter of the alphabet: u\n",
            "u is a vowel.\n"
          ]
        }
      ],
      "source": [
        "\n",
        "l = input(\"Input a letter of the alphabet: \")\n",
        "\n",
        "# Check if the input letter 'l' is present in the tuple containing vowels ('a', 'e', 'i', 'o', 'u')\n",
        "\n",
        "if l in ('a', 'e', 'i', 'o', 'u'):\n",
        "\n",
        "  # Display a message stating that the input letter is a vowel\n",
        "\n",
        "    print(\"%s is a vowel.\" % l)\n",
        "\n",
        "# If the input letter is 'y', display a message stating that it sometimes represents a vowel and sometimes a consonant\n",
        "\n",
        "elif l == 'y':\n",
        "\n",
        "    print(\"Sometimes the letter y stands for a vowel, sometimes for a consonant.\")\n",
        "\n",
        "# If the input letter doesn't fall into any of the above conditions, it is considered a consonant; display a message stating so\n",
        "else:\n",
        "\n",
        "    print(\"%s is a consonant.\" % l)"
      ]
    },
    {
      "cell_type": "markdown",
      "metadata": {
        "id": "V0gHFkNnO1e9"
      },
      "source": [
        "# Iterative statements : for loop  :"
      ]
    },
    {
      "cell_type": "markdown",
      "metadata": {
        "id": "f0sw0mEyPNMz"
      },
      "source": [
        "**1. Python program to print the numbers from 1 to 10\n",
        "using a for loop.**"
      ]
    },
    {
      "cell_type": "code",
      "execution_count": null,
      "metadata": {
        "colab": {
          "base_uri": "https://localhost:8080/"
        },
        "id": "CoGUA_i1Nr9W",
        "outputId": "6c222349-d05a-492d-d4df-21df92f20c15"
      },
      "outputs": [
        {
          "name": "stdout",
          "output_type": "stream",
          "text": [
            "1\n",
            "2\n",
            "3\n",
            "4\n",
            "5\n",
            "6\n",
            "7\n",
            "8\n",
            "9\n",
            "10\n"
          ]
        }
      ],
      "source": [
        "for i in range(1, 11):\n",
        "    print(i)"
      ]
    },
    {
      "cell_type": "markdown",
      "metadata": {
        "id": "BTkG02VTP66k"
      },
      "source": [
        "**2. sum of all even numbers from 1 to 50 using a\n",
        "for loop.**"
      ]
    },
    {
      "cell_type": "code",
      "execution_count": null,
      "metadata": {
        "colab": {
          "base_uri": "https://localhost:8080/"
        },
        "id": "LqSSndaUPPnx",
        "outputId": "8b163cb7-1890-48d1-97ff-a955ca829463"
      },
      "outputs": [
        {
          "name": "stdout",
          "output_type": "stream",
          "text": [
            "Sum of Even Number using for loop \n",
            "Enter the starting value : 1\n",
            "Enter the ending value : 50\n",
            "Sum of even number is  600\n"
          ]
        }
      ],
      "source": [
        "print(\"Sum of Even Number using for loop \")\n",
        "\n",
        "start = int(input(\"Enter the starting value : \"))\n",
        "end   = int(input(\"Enter the ending value : \"))\n",
        "\n",
        "result=0\n",
        "\n",
        "for x in range(start,end):\n",
        "    if(x % 2 == 0):\n",
        "        result=result+x\n",
        "\n",
        "\n",
        "print(\"Sum of even number is \",result)"
      ]
    },
    {
      "cell_type": "markdown",
      "metadata": {
        "id": "a-EVdS_7QDmz"
      },
      "source": [
        "**3. Generate a Fibonacci sequence of n terms using a for loop**"
      ]
    },
    {
      "cell_type": "code",
      "execution_count": null,
      "metadata": {
        "colab": {
          "base_uri": "https://localhost:8080/"
        },
        "id": "2-rghDNWP4FJ",
        "outputId": "3c977950-39c9-405b-94c2-1956bc3f955c"
      },
      "outputs": [
        {
          "name": "stdout",
          "output_type": "stream",
          "text": [
            "Fibonacci series with 10 elements: [0, 1, 1, 2, 3, 5, 8, 13, 21, 34]\n"
          ]
        }
      ],
      "source": [
        "def fibonacci_with_list(n):\n",
        "\tfib_series = [0, 1]\n",
        "\tfor i in range(2, n):\n",
        "\t\tfib_series.append(fib_series[-1] + fib_series[-2])\n",
        "\treturn fib_series\n",
        "\n",
        "# Example usage:\n",
        "n = 10\n",
        "result = fibonacci_with_list(n)\n",
        "print(f\"Fibonacci series with {n} elements:\", result)\n"
      ]
    },
    {
      "cell_type": "markdown",
      "metadata": {
        "id": "WWso_6USQ2yN"
      },
      "source": [
        "**4.Calculate the factorial of a number using a for loop and a\n",
        "function.**"
      ]
    },
    {
      "cell_type": "code",
      "execution_count": null,
      "metadata": {
        "colab": {
          "base_uri": "https://localhost:8080/"
        },
        "id": "81Gg8KIzQk8E",
        "outputId": "97303bd9-be9d-4537-e863-dbb481935fd6"
      },
      "outputs": [
        {
          "name": "stdout",
          "output_type": "stream",
          "text": [
            "The factorial of 20 is 2432902008176640000\n"
          ]
        }
      ],
      "source": [
        "# Python program to find the factorial of a number provided by the user.\n",
        "\n",
        "# change the value for a different result\n",
        "\n",
        "num = 20\n",
        "\n",
        "# To take input from the user\n",
        "#num = int(input(\"Enter a number: \"))\n",
        "\n",
        "factorial = 1\n",
        "\n",
        "# check if the number is negative, positive or zero\n",
        "if num < 0:\n",
        "   print(\"Sorry, factorial does not exist for negative numbers\")\n",
        "elif num == 0:\n",
        "   print(\"The factorial of 0 is 1\")\n",
        "else:\n",
        "   for i in range(1,num + 1):\n",
        "       factorial = factorial*i\n",
        "   print(\"The factorial of\",num,\"is\",factorial)\n"
      ]
    },
    {
      "cell_type": "markdown",
      "metadata": {
        "id": "Eng7dIcjRRzV"
      },
      "source": [
        "**5.  find and print all the prime numbers\n",
        "between 1 and 100**"
      ]
    },
    {
      "cell_type": "code",
      "execution_count": null,
      "metadata": {
        "colab": {
          "base_uri": "https://localhost:8080/"
        },
        "id": "B_RrfOVIRFld",
        "outputId": "fdc0836f-6c7d-4071-eba8-de5ccfd3a16d"
      },
      "outputs": [
        {
          "name": "stdout",
          "output_type": "stream",
          "text": [
            " Please Enter the Minimum Value: 1\n",
            " Please Enter the Maximum Value: 100\n",
            " 2   3   5   7   11   13   17   19   23   29   31   37   41   43   47   53   59   61   67   71   73   79   83   89   97  "
          ]
        }
      ],
      "source": [
        "minimum = int(input(\" Please Enter the Minimum Value: \"))\n",
        "maximum = int(input(\" Please Enter the Maximum Value: \"))\n",
        "\n",
        "for Number in range (minimum, maximum + 1):\n",
        "    count = 0\n",
        "    for i in range(2, (Number//2 + 1)):\n",
        "        if(Number % i == 0):\n",
        "            count = count + 1\n",
        "            break\n",
        "\n",
        "    if (count == 0 and Number != 1):\n",
        "        print(\" %d\" %Number, end = '  ')"
      ]
    },
    {
      "cell_type": "markdown",
      "metadata": {
        "id": "o1fYMupNSYKa"
      },
      "source": [
        "#Iterative statements : while loop :"
      ]
    },
    {
      "cell_type": "markdown",
      "metadata": {
        "id": "WylEz_IKSevx"
      },
      "source": [
        "**1.Numbers from 1 to 10\n",
        "using a while loop.**"
      ]
    },
    {
      "cell_type": "code",
      "execution_count": null,
      "metadata": {
        "colab": {
          "base_uri": "https://localhost:8080/"
        },
        "id": "wwoYPCRdS1D8",
        "outputId": "17b2c824-b3a8-43f9-8b8d-5d42ad42d3eb"
      },
      "outputs": [
        {
          "name": "stdout",
          "output_type": "stream",
          "text": [
            "1\n",
            "2\n",
            "3\n",
            "4\n",
            "5\n",
            "6\n",
            "7\n",
            "8\n",
            "9\n",
            "10\n"
          ]
        }
      ],
      "source": [
        "i=1\n",
        "while i<11:\n",
        "    print(i)\n",
        "    i=i+1"
      ]
    },
    {
      "cell_type": "markdown",
      "metadata": {
        "id": "lB40balZTUdh"
      },
      "source": [
        "**2. . sum of all odd numbers from 1 to 50 using a while loop.**"
      ]
    },
    {
      "cell_type": "code",
      "execution_count": null,
      "metadata": {
        "colab": {
          "base_uri": "https://localhost:8080/"
        },
        "id": "xJ0SaWHbTN7f",
        "outputId": "f766a797-08b7-43b6-99c3-f5fc6595d92d"
      },
      "outputs": [
        {
          "name": "stdout",
          "output_type": "stream",
          "text": [
            " Please Enter the Minimum Value : 1\n",
            " Please Enter the Maximum Value : 50\n",
            "1\n",
            "3\n",
            "5\n",
            "7\n",
            "9\n",
            "11\n",
            "13\n",
            "15\n",
            "17\n",
            "19\n",
            "21\n",
            "23\n",
            "25\n",
            "27\n",
            "29\n",
            "31\n",
            "33\n",
            "35\n",
            "37\n",
            "39\n",
            "41\n",
            "43\n",
            "45\n",
            "47\n",
            "49\n",
            "The Sum of Odd Numbers from 1 to 50 = 625\n"
          ]
        }
      ],
      "source": [
        "# Python Program to Calculate Sum of Odd Numbers from 1 to 100\n",
        "\n",
        "minimum = int(input(\" Please Enter the Minimum Value : \"))\n",
        "maximum = int(input(\" Please Enter the Maximum Value : \"))\n",
        "Oddtotal = 0\n",
        "\n",
        "for number in range(minimum, maximum+1):\n",
        "    if(number % 2 != 0):\n",
        "        print(\"{0}\".format(number))\n",
        "        Oddtotal = Oddtotal + number\n",
        "\n",
        "print(\"The Sum of Odd Numbers from {0} to {1} = {2}\".format(minimum, maximum, Oddtotal))"
      ]
    },
    {
      "cell_type": "markdown",
      "metadata": {
        "id": "73rdOiS4UDMX"
      },
      "source": [
        "**3.  Use a while loop to reverse a given string.**"
      ]
    },
    {
      "cell_type": "code",
      "execution_count": null,
      "metadata": {
        "colab": {
          "base_uri": "https://localhost:8080/"
        },
        "id": "unnWqbX4T7LY",
        "outputId": "dc0676f6-ed3c-4f00-aaf9-1f52141d5591"
      },
      "outputs": [
        {
          "name": "stdout",
          "output_type": "stream",
          "text": [
            "Enter the name: htawsa\n",
            "aswath"
          ]
        }
      ],
      "source": [
        "name= str((input(\"Enter the name: \")))\n",
        "i = len(name) - 1\n",
        "\n",
        "while i >= 0:\n",
        "    print(name[i], end = '')\n",
        "    i = i - 1"
      ]
    },
    {
      "cell_type": "markdown",
      "metadata": {
        "id": "qD7rCuf2bBHH"
      },
      "source": [
        "**4. find and print all the even numbers\n",
        "between 1 and 100 using a while loop.**"
      ]
    },
    {
      "cell_type": "code",
      "execution_count": null,
      "metadata": {
        "colab": {
          "base_uri": "https://localhost:8080/"
        },
        "id": "TY2ZARSBaVNy",
        "outputId": "d0efab63-5110-4693-c471-47c070819ded"
      },
      "outputs": [
        {
          "name": "stdout",
          "output_type": "stream",
          "text": [
            "2\n",
            "4\n",
            "6\n",
            "8\n",
            "10\n",
            "12\n",
            "14\n",
            "16\n",
            "18\n",
            "20\n",
            "22\n",
            "24\n",
            "26\n",
            "28\n",
            "30\n",
            "32\n",
            "34\n",
            "36\n",
            "38\n",
            "40\n",
            "42\n",
            "44\n",
            "46\n",
            "48\n",
            "50\n",
            "52\n",
            "54\n",
            "56\n",
            "58\n",
            "60\n",
            "62\n",
            "64\n",
            "66\n",
            "68\n",
            "70\n",
            "72\n",
            "74\n",
            "76\n",
            "78\n",
            "80\n",
            "82\n",
            "84\n",
            "86\n",
            "88\n",
            "90\n",
            "92\n",
            "94\n",
            "96\n",
            "98\n",
            "100\n"
          ]
        }
      ],
      "source": [
        "num = 1\n",
        "while num <= 100:\n",
        "    if num % 2 == 0:\n",
        "        print(num)\n",
        "    num += 1"
      ]
    },
    {
      "cell_type": "markdown",
      "metadata": {
        "id": "SYMsHAU7bMI0"
      },
      "source": [
        "# Iterative statements : Nested for loop"
      ]
    },
    {
      "cell_type": "markdown",
      "metadata": {
        "id": "3ghXzo_abQwv"
      },
      "source": [
        "**1.  multiplication table (1 to 10) using nested for loops.**\n"
      ]
    },
    {
      "cell_type": "code",
      "execution_count": null,
      "metadata": {
        "id": "RL5dOGzha7bo"
      },
      "outputs": [],
      "source": [
        "max_number = 10\n",
        "\n",
        "for i in range(1, max_number + 1):\n",
        "    for j in range(1, 11):\n",
        "        print(i, \"x\", j, \"=\", i * j, \"\\n\")\n",
        "print(\"\\n\")\n"
      ]
    },
    {
      "cell_type": "markdown",
      "metadata": {
        "id": "jA5Dyt6pdfuX"
      },
      "source": [
        "**2.square pattern of a specified size using asterisks.**"
      ]
    },
    {
      "cell_type": "code",
      "execution_count": null,
      "metadata": {
        "colab": {
          "base_uri": "https://localhost:8080/"
        },
        "id": "qoa3HK84btdN",
        "outputId": "f2e84b76-4a7d-49b9-99ab-f5f07f4bcfc5"
      },
      "outputs": [
        {
          "name": "stdout",
          "output_type": "stream",
          "text": [
            "* * * * \n",
            "* * * * \n",
            "* * * * \n",
            "* * * * \n"
          ]
        }
      ],
      "source": [
        "# No of rows\n",
        "n = 4\n",
        "\n",
        "# Loop through rows\n",
        "for i in range(n):\n",
        "\n",
        "    # Loop to print pattern\n",
        "    for j in range(n):\n",
        "        print(\"*\", end=' ')\n",
        "    print()\n",
        "\n"
      ]
    },
    {
      "cell_type": "markdown",
      "metadata": {
        "id": "jEpNBSUpeYiC"
      },
      "source": [
        "**3. pattern of asterisks in the form of a right-angled\n",
        "triangle**"
      ]
    },
    {
      "cell_type": "code",
      "execution_count": null,
      "metadata": {
        "colab": {
          "base_uri": "https://localhost:8080/"
        },
        "id": "tzhYkxmddZ-R",
        "outputId": "32101909-4ce2-4dbe-f48a-0f42e3faffad"
      },
      "outputs": [
        {
          "name": "stdout",
          "output_type": "stream",
          "text": [
            "Please Enter the Total Number of Rows  : 5\n",
            "Right Angled Triangle Star Pattern\n",
            "*  \n",
            "*  *  \n",
            "*  *  *  \n",
            "*  *  *  *  \n",
            "*  *  *  *  *  \n"
          ]
        }
      ],
      "source": [
        "rows = int(input(\"Please Enter the Total Number of Rows  : \"))\n",
        "\n",
        "print(\"Right Angled Triangle Star Pattern\")\n",
        "i = 1\n",
        "while(i <= rows):\n",
        "    j = 1\n",
        "    while(j <= i):\n",
        "        print('*', end = '  ')\n",
        "        j = j + 1\n",
        "    i = i + 1\n",
        "    print()"
      ]
    },
    {
      "cell_type": "markdown",
      "metadata": {
        "id": "Pa9hbXlBebuj"
      },
      "source": [
        "**4. a pattern of numbers in the form of a right-angled triangle.::**"
      ]
    },
    {
      "cell_type": "code",
      "execution_count": null,
      "metadata": {
        "colab": {
          "base_uri": "https://localhost:8080/"
        },
        "id": "EOBxb9rAe2Em",
        "outputId": "cf06113d-4e1b-4c54-ef8a-4f039a0ce53c"
      },
      "outputs": [
        {
          "name": "stdout",
          "output_type": "stream",
          "text": [
            "enter number of row needed:5\n",
            "1 \n",
            "1 2 \n",
            "1 2 3 \n",
            "1 2 3 4 \n",
            "1 2 3 4 5 \n"
          ]
        }
      ],
      "source": [
        "n = int(input(\"enter number of row needed:\"))\n",
        "for row in range(n):\n",
        "    for colum in range(row + 1):\n",
        "        print(colum+1, end=' ')\n",
        "    print()"
      ]
    },
    {
      "cell_type": "markdown",
      "metadata": {
        "id": "j-rY8KNCm4Dq"
      },
      "source": [
        "**5. pattern of alphabets in the form of an equilateral\n",
        "triangle:**"
      ]
    },
    {
      "cell_type": "code",
      "execution_count": null,
      "metadata": {
        "colab": {
          "base_uri": "https://localhost:8080/"
        },
        "id": "B9S1c70TfEEp",
        "outputId": "7324b300-a5c8-487d-fcf6-a3bc3ba1196c"
      },
      "outputs": [
        {
          "name": "stdout",
          "output_type": "stream",
          "text": [
            "P\n",
            "PY\n",
            "PYT\n",
            "PYTH\n",
            "PYTHO\n",
            "PYTHON\n"
          ]
        }
      ],
      "source": [
        "word = \"PYTHON\"\n",
        "x = \"\"\n",
        "for i in word:\n",
        "    x += i\n",
        "    print(x)"
      ]
    },
    {
      "cell_type": "markdown",
      "metadata": {
        "id": "0oQ7T6WOoDL1"
      },
      "source": [
        "** 6. program to create a pyramid pattern using asterisks.**"
      ]
    },
    {
      "cell_type": "code",
      "execution_count": null,
      "metadata": {
        "id": "81gJhEt9nlA0"
      },
      "outputs": [],
      "source": []
    }
  ],
  "metadata": {
    "colab": {
      "provenance": [],
      "authorship_tag": "ABX9TyPb+Bs7Y/q5UMIiHTyeQF51",
      "include_colab_link": true
    },
    "kernelspec": {
      "display_name": "Python 3",
      "name": "python3"
    },
    "language_info": {
      "name": "python"
    }
  },
  "nbformat": 4,
  "nbformat_minor": 0
}